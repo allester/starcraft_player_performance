{
 "cells": [
  {
   "cell_type": "markdown",
   "id": "f6fd47fa-fa7d-45d6-861e-d34197c253f0",
   "metadata": {},
   "source": [
    "# Starcraft Player Performance Analysis - Allester Ramayrat\n",
    "\n",
    "You’re given a dataset of Starcraft player performance data in ranked games. We want\n",
    "to develop a model to predict a player’s rank using the information provided in the\n",
    "dataset.\n",
    "\n",
    "Document your decision making throughout the model building process (EDA, ETL,\n",
    "modeling, evaluation, etc).\n",
    "\n",
    "Try to functionize any repetitive tasks so that the workflow is simplified.\n",
    "\n",
    "Once you’ve settled on your model, communicate your findings to non-technical\n",
    "stakeholders.\n",
    "\n",
    "Hypothetical: after seeing your work, your stakeholders come to you and say that they\n",
    "can collect more data, but want your guidance before starting. How would you advise\n",
    "them based on your EDA and model results?"
   ]
  },
  {
   "cell_type": "markdown",
   "id": "89af4886-66e9-4b5b-a435-52bcc659b51f",
   "metadata": {},
   "source": [
    "# Packages"
   ]
  },
  {
   "cell_type": "code",
   "execution_count": 258,
   "id": "72ca1220-f193-43ab-84cb-eba9355b5277",
   "metadata": {},
   "outputs": [],
   "source": [
    "import pandas as pd\n",
    "import numpy as np\n",
    "import matplotlib.pyplot as plt\n",
    "import os"
   ]
  },
  {
   "cell_type": "markdown",
   "id": "6033359a-5e9a-4be9-96ab-cf1539e4f82e",
   "metadata": {},
   "source": [
    "# ETL"
   ]
  },
  {
   "cell_type": "code",
   "execution_count": 393,
   "id": "2dbdda22-2f0f-4a85-8d8b-cfc8544c148c",
   "metadata": {},
   "outputs": [
    {
     "name": "stdout",
     "output_type": "stream",
     "text": [
      "   GameID  LeagueIndex Age HoursPerWeek TotalHours       APM  SelectByHotkeys  \\\n",
      "0      52            5  27           10       3000  143.7180         0.003515   \n",
      "1      55            5  23           10       5000  129.2322         0.003304   \n",
      "2      56            4  30           10        200   69.9612         0.001101   \n",
      "3      57            3  19           20        400  107.6016         0.001034   \n",
      "4      58            3  32           10        500  122.8908         0.001136   \n",
      "\n",
      "   AssignToHotkeys  UniqueHotkeys  MinimapAttacks  MinimapRightClicks  \\\n",
      "0         0.000220              7        0.000110            0.000392   \n",
      "1         0.000259              4        0.000294            0.000432   \n",
      "2         0.000336              4        0.000294            0.000461   \n",
      "3         0.000213              1        0.000053            0.000543   \n",
      "4         0.000327              2        0.000000            0.001329   \n",
      "\n",
      "   NumberOfPACs  GapBetweenPACs  ActionLatency  ActionsInPAC  \\\n",
      "0      0.004849         32.6677        40.8673        4.7508   \n",
      "1      0.004307         32.9194        42.3454        4.8434   \n",
      "2      0.002926         44.6475        75.3548        4.0430   \n",
      "3      0.003783         29.2203        53.7352        4.9155   \n",
      "4      0.002368         22.6885        62.0813        9.3740   \n",
      "\n",
      "   TotalMapExplored  WorkersMade  UniqueUnitsMade  ComplexUnitsMade  \\\n",
      "0                28     0.001397                6               0.0   \n",
      "1                22     0.001193                5               0.0   \n",
      "2                22     0.000745                6               0.0   \n",
      "3                19     0.000426                7               0.0   \n",
      "4                15     0.001174                4               0.0   \n",
      "\n",
      "   ComplexAbilitiesUsed  \n",
      "0              0.000000  \n",
      "1              0.000208  \n",
      "2              0.000189  \n",
      "3              0.000384  \n",
      "4              0.000019  \n"
     ]
    }
   ],
   "source": [
    "# loading in data\n",
    "current_directory = os.getcwd()\n",
    "data = pd.read_csv(current_directory + '/data/starcraft_player_data.csv')\n",
    "print(data.head())"
   ]
  },
  {
   "cell_type": "markdown",
   "id": "a848631d-944a-44ef-a006-a4a534268c44",
   "metadata": {
    "tags": []
   },
   "source": [
    "## Data Types\n",
    "\n",
    "Let's print out the data types of each object and compare with Data Dictionary to check if column type conversion is necessary"
   ]
  },
  {
   "cell_type": "code",
   "execution_count": 260,
   "id": "d9b6a0d2-bd0a-4736-b572-75fc89331687",
   "metadata": {},
   "outputs": [
    {
     "data": {
      "text/plain": [
       "GameID                    int64\n",
       "LeagueIndex               int64\n",
       "Age                      object\n",
       "HoursPerWeek             object\n",
       "TotalHours               object\n",
       "APM                     float64\n",
       "SelectByHotkeys         float64\n",
       "AssignToHotkeys         float64\n",
       "UniqueHotkeys             int64\n",
       "MinimapAttacks          float64\n",
       "MinimapRightClicks      float64\n",
       "NumberOfPACs            float64\n",
       "GapBetweenPACs          float64\n",
       "ActionLatency           float64\n",
       "ActionsInPAC            float64\n",
       "TotalMapExplored          int64\n",
       "WorkersMade             float64\n",
       "UniqueUnitsMade           int64\n",
       "ComplexUnitsMade        float64\n",
       "ComplexAbilitiesUsed    float64\n",
       "dtype: object"
      ]
     },
     "execution_count": 260,
     "metadata": {},
     "output_type": "execute_result"
    }
   ],
   "source": [
    "data.dtypes"
   ]
  },
  {
   "cell_type": "markdown",
   "id": "78464e20-0507-4662-b86d-8676559ead07",
   "metadata": {},
   "source": [
    "From data.dtypes we see that the columns LeagueIndex, Age, HoursPerWeek, TotalHours, UniqueHotkeys, TotalMapExplored, UniqueUnitsMade have the wrong data type. \n",
    "    \n",
    "Note that UniqueHotkeys, TotalMapExplored, UniqueUnitsMade have been interpreted as integers which makes sense as they are integers; however, for consisency they will be converted to float64 according to the data dictionary for consistency.\n",
    "    \n",
    "Let's fix it according to the data dictionary:\n",
    "* LeagueIndex: int64 -> ordinal\n",
    "* Age: object -> int64\n",
    "* HoursPerWeek: object -> int64\n",
    "* TotalHours: object -> int64\n",
    "* UniqueHotkeys: int64 -> float64\n",
    "* TotalMapExplored: int64 -> float64\n",
    "* UniqueUnitsMade: int64 -> float64"
   ]
  },
  {
   "cell_type": "markdown",
   "id": "bf291586-2a80-4eae-aa5d-ade06e0d08e0",
   "metadata": {},
   "source": [
    "### League Index\n",
    "\n",
    "For LeagueIndex we will first convert it to a categorial data type (string) then create and assign an ordered categorical data type to LeagueIndex"
   ]
  },
  {
   "cell_type": "code",
   "execution_count": 261,
   "id": "8cea246e-8da1-4d9c-b019-e4ea6f6f7523",
   "metadata": {},
   "outputs": [],
   "source": [
    "from pandas.api.types import CategoricalDtype"
   ]
  },
  {
   "cell_type": "code",
   "execution_count": 394,
   "id": "ec0f3534-6841-4762-909c-f4db3d570a3e",
   "metadata": {},
   "outputs": [
    {
     "data": {
      "text/plain": [
       "CategoricalDtype(categories=['1', '2', '3', '4', '5', '6', '7', '8'], ordered=True)"
      ]
     },
     "execution_count": 394,
     "metadata": {},
     "output_type": "execute_result"
    }
   ],
   "source": [
    "#create a copy of data\n",
    "clean_data = data.copy()\n",
    "\n",
    "clean_data['LeagueIndex'] = clean_data['LeagueIndex'].astype(str)\n",
    "rank_type = CategoricalDtype(categories=['1', '2', '3', '4', '5', '6', '7', '8'], ordered=True)\n",
    "clean_data['LeagueIndex'] = clean_data['LeagueIndex'].astype(rank_type)\n",
    "clean_data['LeagueIndex'].dtype"
   ]
  },
  {
   "cell_type": "markdown",
   "id": "fdde6991-5b70-473d-a67f-bd5cdc80666c",
   "metadata": {},
   "source": [
    "### Personal Identifiers"
   ]
  },
  {
   "cell_type": "code",
   "execution_count": 263,
   "id": "87cd62e2-d88a-44c3-b093-65efc41d04be",
   "metadata": {},
   "outputs": [
    {
     "name": "stdout",
     "output_type": "stream",
     "text": [
      "Age : ['?', '44', '43', '41', '40']\n",
      "HoursPerWeek : ['?', '98', '96', '90', '84']\n",
      "TotalHours : ['?', '999', '990', '980', '960']\n"
     ]
    }
   ],
   "source": [
    "'''\n",
    "The columns Age, HoursPerWeek, TotalHours have been interpreted as an object (string) type\n",
    "let's see why this is the case\n",
    "'''\n",
    "\n",
    "# create a list of columns to iterate over\n",
    "object_columns = ['Age', 'HoursPerWeek', 'TotalHours']\n",
    "for column in object_columns:\n",
    "    #sort the unique values in reverse so that numbers come last\n",
    "    # and print the first five elements to reduce output size and for readability\n",
    "    print(column, ':', sorted(data[column].unique(), reverse=True)[:5])"
   ]
  },
  {
   "cell_type": "code",
   "execution_count": 264,
   "id": "1f150991-ddaf-4985-b543-514360260025",
   "metadata": {},
   "outputs": [
    {
     "name": "stdout",
     "output_type": "stream",
     "text": [
      "# of Rows: 3395\n",
      "Age :\n",
      "\tCount of ?: 55\n",
      "\tRatio of ?: 0.02\n",
      "HoursPerWeek :\n",
      "\tCount of ?: 56\n",
      "\tRatio of ?: 0.02\n",
      "TotalHours :\n",
      "\tCount of ?: 57\n",
      "\tRatio of ?: 0.02\n"
     ]
    }
   ],
   "source": [
    "'''\n",
    "As you can see the '?' caused pandas to interpret these columns as an object type.\n",
    "\n",
    "I will now explore the different ways to deal with missing values:\n",
    " - Dropping Row Containing Missing Values\n",
    " - Dropping these columns from the data frame\n",
    "'''\n",
    "\n",
    "\n",
    "num_rows = clean_data[column].shape[0]\n",
    "print('# of Rows:', num_rows)\n",
    "\n",
    "for column in object_columns:\n",
    "    null_count = (clean_data[column] == '?').sum()\n",
    "    print(column, ':')\n",
    "    print('\\tCount of ?:', null_count)\n",
    "    print('\\tRatio of ?:', round(null_count/num_rows, 2))"
   ]
  },
  {
   "cell_type": "code",
   "execution_count": 265,
   "id": "dd7b8f8f-70be-40b9-afd5-79b77c70f78c",
   "metadata": {},
   "outputs": [
    {
     "data": {
      "text/html": [
       "<div>\n",
       "<style scoped>\n",
       "    .dataframe tbody tr th:only-of-type {\n",
       "        vertical-align: middle;\n",
       "    }\n",
       "\n",
       "    .dataframe tbody tr th {\n",
       "        vertical-align: top;\n",
       "    }\n",
       "\n",
       "    .dataframe thead th {\n",
       "        text-align: right;\n",
       "    }\n",
       "</style>\n",
       "<table border=\"1\" class=\"dataframe\">\n",
       "  <thead>\n",
       "    <tr style=\"text-align: right;\">\n",
       "      <th></th>\n",
       "      <th>Age</th>\n",
       "      <th>HoursPerWeek</th>\n",
       "      <th>TotalHours</th>\n",
       "    </tr>\n",
       "    <tr>\n",
       "      <th>LeagueIndex</th>\n",
       "      <th></th>\n",
       "      <th></th>\n",
       "      <th></th>\n",
       "    </tr>\n",
       "  </thead>\n",
       "  <tbody>\n",
       "    <tr>\n",
       "      <th>1</th>\n",
       "      <td>0</td>\n",
       "      <td>0</td>\n",
       "      <td>0</td>\n",
       "    </tr>\n",
       "    <tr>\n",
       "      <th>2</th>\n",
       "      <td>0</td>\n",
       "      <td>0</td>\n",
       "      <td>0</td>\n",
       "    </tr>\n",
       "    <tr>\n",
       "      <th>3</th>\n",
       "      <td>0</td>\n",
       "      <td>0</td>\n",
       "      <td>0</td>\n",
       "    </tr>\n",
       "    <tr>\n",
       "      <th>4</th>\n",
       "      <td>0</td>\n",
       "      <td>0</td>\n",
       "      <td>0</td>\n",
       "    </tr>\n",
       "    <tr>\n",
       "      <th>5</th>\n",
       "      <td>0</td>\n",
       "      <td>1</td>\n",
       "      <td>2</td>\n",
       "    </tr>\n",
       "    <tr>\n",
       "      <th>6</th>\n",
       "      <td>0</td>\n",
       "      <td>0</td>\n",
       "      <td>0</td>\n",
       "    </tr>\n",
       "    <tr>\n",
       "      <th>7</th>\n",
       "      <td>0</td>\n",
       "      <td>0</td>\n",
       "      <td>0</td>\n",
       "    </tr>\n",
       "    <tr>\n",
       "      <th>8</th>\n",
       "      <td>55</td>\n",
       "      <td>55</td>\n",
       "      <td>55</td>\n",
       "    </tr>\n",
       "  </tbody>\n",
       "</table>\n",
       "</div>"
      ],
      "text/plain": [
       "             Age  HoursPerWeek  TotalHours\n",
       "LeagueIndex                               \n",
       "1              0             0           0\n",
       "2              0             0           0\n",
       "3              0             0           0\n",
       "4              0             0           0\n",
       "5              0             1           2\n",
       "6              0             0           0\n",
       "7              0             0           0\n",
       "8             55            55          55"
      ]
     },
     "execution_count": 265,
     "metadata": {},
     "output_type": "execute_result"
    }
   ],
   "source": [
    "'''\n",
    "Even though the number of null values are relatively low to the number of rows in the dataset\n",
    "we should consider the distribution of these null values across each rank\n",
    "'''\n",
    "#create subset of data\n",
    "object_columns = ['Age', 'HoursPerWeek', 'TotalHours']\n",
    "object_data = clean_data[object_columns]\n",
    "object_data = object_data.isin(['?'])\n",
    "object_data['LeagueIndex'] = clean_data['LeagueIndex']\n",
    "object_data = object_data.groupby('LeagueIndex').sum()\n",
    "object_data"
   ]
  },
  {
   "cell_type": "code",
   "execution_count": 267,
   "id": "925ba05f-d75c-4f97-beb6-4d3c70de9506",
   "metadata": {},
   "outputs": [
    {
     "data": {
      "text/html": [
       "<div>\n",
       "<style scoped>\n",
       "    .dataframe tbody tr th:only-of-type {\n",
       "        vertical-align: middle;\n",
       "    }\n",
       "\n",
       "    .dataframe tbody tr th {\n",
       "        vertical-align: top;\n",
       "    }\n",
       "\n",
       "    .dataframe thead th {\n",
       "        text-align: right;\n",
       "    }\n",
       "</style>\n",
       "<table border=\"1\" class=\"dataframe\">\n",
       "  <thead>\n",
       "    <tr style=\"text-align: right;\">\n",
       "      <th></th>\n",
       "      <th>Age</th>\n",
       "      <th>HoursPerWeek</th>\n",
       "      <th>TotalHours</th>\n",
       "    </tr>\n",
       "    <tr>\n",
       "      <th>LeagueIndex</th>\n",
       "      <th></th>\n",
       "      <th></th>\n",
       "      <th></th>\n",
       "    </tr>\n",
       "  </thead>\n",
       "  <tbody>\n",
       "    <tr>\n",
       "      <th>1</th>\n",
       "      <td>0.0</td>\n",
       "      <td>0.000000</td>\n",
       "      <td>0.000000</td>\n",
       "    </tr>\n",
       "    <tr>\n",
       "      <th>2</th>\n",
       "      <td>0.0</td>\n",
       "      <td>0.000000</td>\n",
       "      <td>0.000000</td>\n",
       "    </tr>\n",
       "    <tr>\n",
       "      <th>3</th>\n",
       "      <td>0.0</td>\n",
       "      <td>0.000000</td>\n",
       "      <td>0.000000</td>\n",
       "    </tr>\n",
       "    <tr>\n",
       "      <th>4</th>\n",
       "      <td>0.0</td>\n",
       "      <td>0.000000</td>\n",
       "      <td>0.000000</td>\n",
       "    </tr>\n",
       "    <tr>\n",
       "      <th>5</th>\n",
       "      <td>0.0</td>\n",
       "      <td>0.001241</td>\n",
       "      <td>0.002481</td>\n",
       "    </tr>\n",
       "    <tr>\n",
       "      <th>6</th>\n",
       "      <td>0.0</td>\n",
       "      <td>0.000000</td>\n",
       "      <td>0.000000</td>\n",
       "    </tr>\n",
       "    <tr>\n",
       "      <th>7</th>\n",
       "      <td>0.0</td>\n",
       "      <td>0.000000</td>\n",
       "      <td>0.000000</td>\n",
       "    </tr>\n",
       "    <tr>\n",
       "      <th>8</th>\n",
       "      <td>1.0</td>\n",
       "      <td>1.000000</td>\n",
       "      <td>1.000000</td>\n",
       "    </tr>\n",
       "  </tbody>\n",
       "</table>\n",
       "</div>"
      ],
      "text/plain": [
       "             Age  HoursPerWeek  TotalHours\n",
       "LeagueIndex                               \n",
       "1            0.0      0.000000    0.000000\n",
       "2            0.0      0.000000    0.000000\n",
       "3            0.0      0.000000    0.000000\n",
       "4            0.0      0.000000    0.000000\n",
       "5            0.0      0.001241    0.002481\n",
       "6            0.0      0.000000    0.000000\n",
       "7            0.0      0.000000    0.000000\n",
       "8            1.0      1.000000    1.000000"
      ]
     },
     "metadata": {},
     "output_type": "display_data"
    }
   ],
   "source": [
    "'''\n",
    "It appears that the missing values for Age, HoursPerWeek and TotalHours are mostly \n",
    "    in League 8 let's find the proportion of data that is missing for League 8\n",
    "'''\n",
    "count_data = clean_data[object_columns + ['LeagueIndex']].groupby('LeagueIndex').count()\n",
    "ratio_data = object_data.div(count_data)\n",
    "display(ratio_data)"
   ]
  },
  {
   "cell_type": "markdown",
   "id": "7d11184c-5548-4f7b-b7b5-1fd20c347c9c",
   "metadata": {},
   "source": [
    "The first method of dropping the rows that contain null values would not be advisable as it would remove 100% of the variability for the observations that with a LeagueIndex of 8"
   ]
  },
  {
   "cell_type": "code",
   "execution_count": 268,
   "id": "3ea65dd2-73e8-4a5c-8de4-0b595be12ef4",
   "metadata": {},
   "outputs": [],
   "source": [
    "'''\n",
    "The next option would be to drop the Age, HoursPerWeek, and TotalHours columns altogether. \n",
    "\n",
    "In the case where some variability was preserved in LeagueIndex 8 \n",
    "when dropping the null values, I would find the correlation of the remaining values\n",
    "of Age, HoursPerWeek, TotalHour after dropping to LeagueIndex; however, since there would be\n",
    "no remaining observations in LeagueIndex 8 it would be unneccessary to perform this test\n",
    "\n",
    "As a result we will drop the columns Age, HoursPerWeek, TotalHours from our dataset\n",
    "'''\n",
    "\n",
    "clean_data = clean_data.drop(columns =['Age', 'HoursPerWeek', 'TotalHours'])"
   ]
  },
  {
   "cell_type": "code",
   "execution_count": 269,
   "id": "8a16e6d9-d13d-48ef-8f93-aa18b995bb19",
   "metadata": {},
   "outputs": [
    {
     "data": {
      "text/plain": [
       "UniqueHotkeys       float64\n",
       "TotalMapExplored    float64\n",
       "UniqueUnitsMade     float64\n",
       "dtype: object"
      ]
     },
     "execution_count": 269,
     "metadata": {},
     "output_type": "execute_result"
    }
   ],
   "source": [
    "'''\n",
    "For the rest of the columns we can easily convert them to the appropriate data type\n",
    "'''\n",
    "\n",
    "# create a list of column and new type\n",
    "new_types = [['UniqueHotkeys', float], ['TotalMapExplored', float], ['UniqueUnitsMade', float]]\n",
    "\n",
    "# iteratively change each column type from the new_types list\n",
    "for column, new_type in new_types:\n",
    "    clean_data[column] = clean_data[column].astype(new_type)\n",
    "    \n",
    "# print the data types of the columns that we changed\n",
    "clean_data[[pair[0] for pair in new_types]].dtypes"
   ]
  },
  {
   "cell_type": "markdown",
   "id": "994c91b9-c40b-4250-b7ef-dc3d3dce561c",
   "metadata": {},
   "source": [
    "### Unique ID"
   ]
  },
  {
   "cell_type": "code",
   "execution_count": 395,
   "id": "e9b3b418-df3a-4310-bae1-43dd793b5129",
   "metadata": {},
   "outputs": [],
   "source": [
    "'''\n",
    "GameID is a unqiue identifier for each game and is not related to player performance; thus, it can be dropped\n",
    "'''\n",
    "\n",
    "clean_data = clean_data.drop(columns=['GameID'])"
   ]
  },
  {
   "cell_type": "markdown",
   "id": "527e0ddc-7f3c-4975-93b3-8f3eaea828d2",
   "metadata": {},
   "source": [
    "# EDA"
   ]
  },
  {
   "cell_type": "code",
   "execution_count": 270,
   "id": "2b91f2cb-f306-4029-aca4-8d805fca6305",
   "metadata": {},
   "outputs": [
    {
     "data": {
      "text/plain": [
       "GameID                  0\n",
       "LeagueIndex             0\n",
       "APM                     0\n",
       "SelectByHotkeys         0\n",
       "AssignToHotkeys         0\n",
       "UniqueHotkeys           0\n",
       "MinimapAttacks          0\n",
       "MinimapRightClicks      0\n",
       "NumberOfPACs            0\n",
       "GapBetweenPACs          0\n",
       "ActionLatency           0\n",
       "ActionsInPAC            0\n",
       "TotalMapExplored        0\n",
       "WorkersMade             0\n",
       "UniqueUnitsMade         0\n",
       "ComplexUnitsMade        0\n",
       "ComplexAbilitiesUsed    0\n",
       "dtype: int64"
      ]
     },
     "execution_count": 270,
     "metadata": {},
     "output_type": "execute_result"
    }
   ],
   "source": [
    "'''\n",
    "Check the nulls values in our data\n",
    "'''\n",
    "clean_data.isnull().sum()"
   ]
  },
  {
   "cell_type": "markdown",
   "id": "3875a0d4-06fb-4134-b74d-c9fe9ea6132a",
   "metadata": {},
   "source": [
    "There are no nulls in our data set which is necessary to train our model"
   ]
  },
  {
   "cell_type": "markdown",
   "id": "ea9375f2-4197-4ee7-a3fd-eab699de534b",
   "metadata": {},
   "source": [
    "## Distribution"
   ]
  },
  {
   "cell_type": "code",
   "execution_count": 272,
   "id": "325a84ac-1eeb-4931-a582-98332735bc10",
   "metadata": {},
   "outputs": [
    {
     "data": {
      "text/plain": [
       "(array([167., 347., 553., 811., 806., 621.,  35.,  55.]),\n",
       " array([1.   , 1.875, 2.75 , 3.625, 4.5  , 5.375, 6.25 , 7.125, 8.   ]),\n",
       " <BarContainer object of 8 artists>)"
      ]
     },
     "execution_count": 272,
     "metadata": {},
     "output_type": "execute_result"
    },
    {
     "data": {
      "image/png": "[encoded data removed]",
      "text/plain": [
       "<Figure size 432x288 with 1 Axes>"
      ]
     },
     "metadata": {
      "needs_background": "light"
     },
     "output_type": "display_data"
    }
   ],
   "source": [
    "plt.hist(data['LeagueIndex'], bins = 8)"
   ]
  },
  {
   "cell_type": "markdown",
   "id": "f7a342f0-0c77-4609-9dc6-9f21bca2aa84",
   "metadata": {},
   "source": [
    "This bar plot shows the distribution of LeagueIndex to be normally distributed as a result there will be some difficulty predicting the extreme values that lie withing the lower and upper tails specifically LeagueIndex 1, 2, 7, and 8."
   ]
  },
  {
   "cell_type": "markdown",
   "id": "157c6766-d02d-4c97-a96e-d260b6dce5c2",
   "metadata": {},
   "source": [
    "## Correlation Matrix\n",
    "Let's plot a correlation matrix since we are interested in how our predictors correlate to LeagueIndex. \n",
    "\n",
    "Note that I performed the correlation matrix on the original uncleaned due to the interpreted int data type.\n",
    "\n",
    "As a result of the int data type, the correlation values may not accurately reflect a predictors correlation to LeagueIndex; however, it can give a general idea of interesting features."
   ]
  },
  {
   "cell_type": "code",
   "execution_count": 285,
   "id": "95ad61c6-e481-40c9-8885-baf462ec9074",
   "metadata": {},
   "outputs": [
    {
     "name": "stderr",
     "output_type": "stream",
     "text": [
      "<ipython-input-285-c44ded798807>:1: FutureWarning: The default value of numeric_only in DataFrame.corr is deprecated. In a future version, it will default to False. Select only valid columns or specify the value of numeric_only to silence this warning.\n",
      "  data.corr()\n"
     ]
    },
    {
     "data": {
      "text/html": [
       "<div>\n",
       "<style scoped>\n",
       "    .dataframe tbody tr th:only-of-type {\n",
       "        vertical-align: middle;\n",
       "    }\n",
       "\n",
       "    .dataframe tbody tr th {\n",
       "        vertical-align: top;\n",
       "    }\n",
       "\n",
       "    .dataframe thead th {\n",
       "        text-align: right;\n",
       "    }\n",
       "</style>\n",
       "<table border=\"1\" class=\"dataframe\">\n",
       "  <thead>\n",
       "    <tr style=\"text-align: right;\">\n",
       "      <th></th>\n",
       "      <th>GameID</th>\n",
       "      <th>LeagueIndex</th>\n",
       "      <th>APM</th>\n",
       "      <th>SelectByHotkeys</th>\n",
       "      <th>AssignToHotkeys</th>\n",
       "      <th>UniqueHotkeys</th>\n",
       "      <th>MinimapAttacks</th>\n",
       "      <th>MinimapRightClicks</th>\n",
       "      <th>NumberOfPACs</th>\n",
       "      <th>GapBetweenPACs</th>\n",
       "      <th>ActionLatency</th>\n",
       "      <th>ActionsInPAC</th>\n",
       "      <th>TotalMapExplored</th>\n",
       "      <th>WorkersMade</th>\n",
       "      <th>UniqueUnitsMade</th>\n",
       "      <th>ComplexUnitsMade</th>\n",
       "      <th>ComplexAbilitiesUsed</th>\n",
       "    </tr>\n",
       "  </thead>\n",
       "  <tbody>\n",
       "    <tr>\n",
       "      <th>GameID</th>\n",
       "      <td>1.000000</td>\n",
       "      <td>0.102601</td>\n",
       "      <td>0.159691</td>\n",
       "      <td>0.160802</td>\n",
       "      <td>0.136184</td>\n",
       "      <td>0.117366</td>\n",
       "      <td>0.074045</td>\n",
       "      <td>0.046583</td>\n",
       "      <td>0.089635</td>\n",
       "      <td>-0.102572</td>\n",
       "      <td>-0.087222</td>\n",
       "      <td>0.047255</td>\n",
       "      <td>0.032313</td>\n",
       "      <td>-0.011636</td>\n",
       "      <td>0.021204</td>\n",
       "      <td>-0.027098</td>\n",
       "      <td>0.003248</td>\n",
       "    </tr>\n",
       "    <tr>\n",
       "      <th>LeagueIndex</th>\n",
       "      <td>0.102601</td>\n",
       "      <td>1.000000</td>\n",
       "      <td>0.662309</td>\n",
       "      <td>0.490599</td>\n",
       "      <td>0.531125</td>\n",
       "      <td>0.351213</td>\n",
       "      <td>0.312544</td>\n",
       "      <td>0.233231</td>\n",
       "      <td>0.612192</td>\n",
       "      <td>-0.553246</td>\n",
       "      <td>-0.673939</td>\n",
       "      <td>0.143121</td>\n",
       "      <td>0.220676</td>\n",
       "      <td>0.295643</td>\n",
       "      <td>0.133508</td>\n",
       "      <td>0.148834</td>\n",
       "      <td>0.145733</td>\n",
       "    </tr>\n",
       "    <tr>\n",
       "      <th>APM</th>\n",
       "      <td>0.159691</td>\n",
       "      <td>0.662309</td>\n",
       "      <td>1.000000</td>\n",
       "      <td>0.840693</td>\n",
       "      <td>0.578416</td>\n",
       "      <td>0.361704</td>\n",
       "      <td>0.271021</td>\n",
       "      <td>0.322179</td>\n",
       "      <td>0.651237</td>\n",
       "      <td>-0.575275</td>\n",
       "      <td>-0.722402</td>\n",
       "      <td>0.383985</td>\n",
       "      <td>0.220749</td>\n",
       "      <td>0.349692</td>\n",
       "      <td>0.100844</td>\n",
       "      <td>0.136143</td>\n",
       "      <td>0.131587</td>\n",
       "    </tr>\n",
       "    <tr>\n",
       "      <th>SelectByHotkeys</th>\n",
       "      <td>0.160802</td>\n",
       "      <td>0.490599</td>\n",
       "      <td>0.840693</td>\n",
       "      <td>1.000000</td>\n",
       "      <td>0.504526</td>\n",
       "      <td>0.302096</td>\n",
       "      <td>0.197158</td>\n",
       "      <td>0.143368</td>\n",
       "      <td>0.398505</td>\n",
       "      <td>-0.304290</td>\n",
       "      <td>-0.415388</td>\n",
       "      <td>0.163282</td>\n",
       "      <td>0.083481</td>\n",
       "      <td>0.141723</td>\n",
       "      <td>0.006121</td>\n",
       "      <td>0.044002</td>\n",
       "      <td>0.061037</td>\n",
       "    </tr>\n",
       "    <tr>\n",
       "      <th>AssignToHotkeys</th>\n",
       "      <td>0.136184</td>\n",
       "      <td>0.531125</td>\n",
       "      <td>0.578416</td>\n",
       "      <td>0.504526</td>\n",
       "      <td>1.000000</td>\n",
       "      <td>0.420242</td>\n",
       "      <td>0.242196</td>\n",
       "      <td>0.193043</td>\n",
       "      <td>0.486729</td>\n",
       "      <td>-0.396891</td>\n",
       "      <td>-0.482191</td>\n",
       "      <td>0.093668</td>\n",
       "      <td>0.192928</td>\n",
       "      <td>0.183065</td>\n",
       "      <td>0.132829</td>\n",
       "      <td>0.144603</td>\n",
       "      <td>0.154410</td>\n",
       "    </tr>\n",
       "    <tr>\n",
       "      <th>UniqueHotkeys</th>\n",
       "      <td>0.117366</td>\n",
       "      <td>0.351213</td>\n",
       "      <td>0.361704</td>\n",
       "      <td>0.302096</td>\n",
       "      <td>0.420242</td>\n",
       "      <td>1.000000</td>\n",
       "      <td>0.180592</td>\n",
       "      <td>0.141576</td>\n",
       "      <td>0.372079</td>\n",
       "      <td>-0.242815</td>\n",
       "      <td>-0.323103</td>\n",
       "      <td>-0.016400</td>\n",
       "      <td>0.264650</td>\n",
       "      <td>0.108141</td>\n",
       "      <td>0.225030</td>\n",
       "      <td>0.110363</td>\n",
       "      <td>0.102453</td>\n",
       "    </tr>\n",
       "    <tr>\n",
       "      <th>MinimapAttacks</th>\n",
       "      <td>0.074045</td>\n",
       "      <td>0.312544</td>\n",
       "      <td>0.271021</td>\n",
       "      <td>0.197158</td>\n",
       "      <td>0.242196</td>\n",
       "      <td>0.180592</td>\n",
       "      <td>1.000000</td>\n",
       "      <td>0.242269</td>\n",
       "      <td>0.177343</td>\n",
       "      <td>-0.237633</td>\n",
       "      <td>-0.199904</td>\n",
       "      <td>0.134804</td>\n",
       "      <td>0.166392</td>\n",
       "      <td>0.077624</td>\n",
       "      <td>0.120824</td>\n",
       "      <td>0.040239</td>\n",
       "      <td>0.044528</td>\n",
       "    </tr>\n",
       "    <tr>\n",
       "      <th>MinimapRightClicks</th>\n",
       "      <td>0.046583</td>\n",
       "      <td>0.233231</td>\n",
       "      <td>0.322179</td>\n",
       "      <td>0.143368</td>\n",
       "      <td>0.193043</td>\n",
       "      <td>0.141576</td>\n",
       "      <td>0.242269</td>\n",
       "      <td>1.000000</td>\n",
       "      <td>0.176137</td>\n",
       "      <td>-0.254466</td>\n",
       "      <td>-0.230660</td>\n",
       "      <td>0.307512</td>\n",
       "      <td>0.172592</td>\n",
       "      <td>0.206594</td>\n",
       "      <td>0.148699</td>\n",
       "      <td>0.091604</td>\n",
       "      <td>0.090650</td>\n",
       "    </tr>\n",
       "    <tr>\n",
       "      <th>NumberOfPACs</th>\n",
       "      <td>0.089635</td>\n",
       "      <td>0.612192</td>\n",
       "      <td>0.651237</td>\n",
       "      <td>0.398505</td>\n",
       "      <td>0.486729</td>\n",
       "      <td>0.372079</td>\n",
       "      <td>0.177343</td>\n",
       "      <td>0.176137</td>\n",
       "      <td>1.000000</td>\n",
       "      <td>-0.506261</td>\n",
       "      <td>-0.820334</td>\n",
       "      <td>-0.232018</td>\n",
       "      <td>0.460275</td>\n",
       "      <td>0.277891</td>\n",
       "      <td>0.306295</td>\n",
       "      <td>0.181484</td>\n",
       "      <td>0.168293</td>\n",
       "    </tr>\n",
       "    <tr>\n",
       "      <th>GapBetweenPACs</th>\n",
       "      <td>-0.102572</td>\n",
       "      <td>-0.553246</td>\n",
       "      <td>-0.575275</td>\n",
       "      <td>-0.304290</td>\n",
       "      <td>-0.396891</td>\n",
       "      <td>-0.242815</td>\n",
       "      <td>-0.237633</td>\n",
       "      <td>-0.254466</td>\n",
       "      <td>-0.506261</td>\n",
       "      <td>1.000000</td>\n",
       "      <td>0.689402</td>\n",
       "      <td>-0.311072</td>\n",
       "      <td>-0.095330</td>\n",
       "      <td>-0.235419</td>\n",
       "      <td>-0.084855</td>\n",
       "      <td>-0.074659</td>\n",
       "      <td>-0.090566</td>\n",
       "    </tr>\n",
       "    <tr>\n",
       "      <th>ActionLatency</th>\n",
       "      <td>-0.087222</td>\n",
       "      <td>-0.673939</td>\n",
       "      <td>-0.722402</td>\n",
       "      <td>-0.415388</td>\n",
       "      <td>-0.482191</td>\n",
       "      <td>-0.323103</td>\n",
       "      <td>-0.199904</td>\n",
       "      <td>-0.230660</td>\n",
       "      <td>-0.820334</td>\n",
       "      <td>0.689402</td>\n",
       "      <td>1.000000</td>\n",
       "      <td>-0.110224</td>\n",
       "      <td>-0.343314</td>\n",
       "      <td>-0.309175</td>\n",
       "      <td>-0.212610</td>\n",
       "      <td>-0.186407</td>\n",
       "      <td>-0.184372</td>\n",
       "    </tr>\n",
       "    <tr>\n",
       "      <th>ActionsInPAC</th>\n",
       "      <td>0.047255</td>\n",
       "      <td>0.143121</td>\n",
       "      <td>0.383985</td>\n",
       "      <td>0.163282</td>\n",
       "      <td>0.093668</td>\n",
       "      <td>-0.016400</td>\n",
       "      <td>0.134804</td>\n",
       "      <td>0.307512</td>\n",
       "      <td>-0.232018</td>\n",
       "      <td>-0.311072</td>\n",
       "      <td>-0.110224</td>\n",
       "      <td>1.000000</td>\n",
       "      <td>-0.157215</td>\n",
       "      <td>0.251795</td>\n",
       "      <td>-0.133697</td>\n",
       "      <td>0.052725</td>\n",
       "      <td>0.054536</td>\n",
       "    </tr>\n",
       "    <tr>\n",
       "      <th>TotalMapExplored</th>\n",
       "      <td>0.032313</td>\n",
       "      <td>0.220676</td>\n",
       "      <td>0.220749</td>\n",
       "      <td>0.083481</td>\n",
       "      <td>0.192928</td>\n",
       "      <td>0.264650</td>\n",
       "      <td>0.166392</td>\n",
       "      <td>0.172592</td>\n",
       "      <td>0.460275</td>\n",
       "      <td>-0.095330</td>\n",
       "      <td>-0.343314</td>\n",
       "      <td>-0.157215</td>\n",
       "      <td>1.000000</td>\n",
       "      <td>0.131507</td>\n",
       "      <td>0.572768</td>\n",
       "      <td>0.307762</td>\n",
       "      <td>0.248257</td>\n",
       "    </tr>\n",
       "    <tr>\n",
       "      <th>WorkersMade</th>\n",
       "      <td>-0.011636</td>\n",
       "      <td>0.295643</td>\n",
       "      <td>0.349692</td>\n",
       "      <td>0.141723</td>\n",
       "      <td>0.183065</td>\n",
       "      <td>0.108141</td>\n",
       "      <td>0.077624</td>\n",
       "      <td>0.206594</td>\n",
       "      <td>0.277891</td>\n",
       "      <td>-0.235419</td>\n",
       "      <td>-0.309175</td>\n",
       "      <td>0.251795</td>\n",
       "      <td>0.131507</td>\n",
       "      <td>1.000000</td>\n",
       "      <td>0.113504</td>\n",
       "      <td>0.203637</td>\n",
       "      <td>0.101942</td>\n",
       "    </tr>\n",
       "    <tr>\n",
       "      <th>UniqueUnitsMade</th>\n",
       "      <td>0.021204</td>\n",
       "      <td>0.133508</td>\n",
       "      <td>0.100844</td>\n",
       "      <td>0.006121</td>\n",
       "      <td>0.132829</td>\n",
       "      <td>0.225030</td>\n",
       "      <td>0.120824</td>\n",
       "      <td>0.148699</td>\n",
       "      <td>0.306295</td>\n",
       "      <td>-0.084855</td>\n",
       "      <td>-0.212610</td>\n",
       "      <td>-0.133697</td>\n",
       "      <td>0.572768</td>\n",
       "      <td>0.113504</td>\n",
       "      <td>1.000000</td>\n",
       "      <td>0.381497</td>\n",
       "      <td>0.291829</td>\n",
       "    </tr>\n",
       "    <tr>\n",
       "      <th>ComplexUnitsMade</th>\n",
       "      <td>-0.027098</td>\n",
       "      <td>0.148834</td>\n",
       "      <td>0.136143</td>\n",
       "      <td>0.044002</td>\n",
       "      <td>0.144603</td>\n",
       "      <td>0.110363</td>\n",
       "      <td>0.040239</td>\n",
       "      <td>0.091604</td>\n",
       "      <td>0.181484</td>\n",
       "      <td>-0.074659</td>\n",
       "      <td>-0.186407</td>\n",
       "      <td>0.052725</td>\n",
       "      <td>0.307762</td>\n",
       "      <td>0.203637</td>\n",
       "      <td>0.381497</td>\n",
       "      <td>1.000000</td>\n",
       "      <td>0.616680</td>\n",
       "    </tr>\n",
       "    <tr>\n",
       "      <th>ComplexAbilitiesUsed</th>\n",
       "      <td>0.003248</td>\n",
       "      <td>0.145733</td>\n",
       "      <td>0.131587</td>\n",
       "      <td>0.061037</td>\n",
       "      <td>0.154410</td>\n",
       "      <td>0.102453</td>\n",
       "      <td>0.044528</td>\n",
       "      <td>0.090650</td>\n",
       "      <td>0.168293</td>\n",
       "      <td>-0.090566</td>\n",
       "      <td>-0.184372</td>\n",
       "      <td>0.054536</td>\n",
       "      <td>0.248257</td>\n",
       "      <td>0.101942</td>\n",
       "      <td>0.291829</td>\n",
       "      <td>0.616680</td>\n",
       "      <td>1.000000</td>\n",
       "    </tr>\n",
       "  </tbody>\n",
       "</table>\n",
       "</div>"
      ],
      "text/plain": [
       "                        GameID  LeagueIndex       APM  SelectByHotkeys  \\\n",
       "GameID                1.000000     0.102601  0.159691         0.160802   \n",
       "LeagueIndex           0.102601     1.000000  0.662309         0.490599   \n",
       "APM                   0.159691     0.662309  1.000000         0.840693   \n",
       "SelectByHotkeys       0.160802     0.490599  0.840693         1.000000   \n",
       "AssignToHotkeys       0.136184     0.531125  0.578416         0.504526   \n",
       "UniqueHotkeys         0.117366     0.351213  0.361704         0.302096   \n",
       "MinimapAttacks        0.074045     0.312544  0.271021         0.197158   \n",
       "MinimapRightClicks    0.046583     0.233231  0.322179         0.143368   \n",
       "NumberOfPACs          0.089635     0.612192  0.651237         0.398505   \n",
       "GapBetweenPACs       -0.102572    -0.553246 -0.575275        -0.304290   \n",
       "ActionLatency        -0.087222    -0.673939 -0.722402        -0.415388   \n",
       "ActionsInPAC          0.047255     0.143121  0.383985         0.163282   \n",
       "TotalMapExplored      0.032313     0.220676  0.220749         0.083481   \n",
       "WorkersMade          -0.011636     0.295643  0.349692         0.141723   \n",
       "UniqueUnitsMade       0.021204     0.133508  0.100844         0.006121   \n",
       "ComplexUnitsMade     -0.027098     0.148834  0.136143         0.044002   \n",
       "ComplexAbilitiesUsed  0.003248     0.145733  0.131587         0.061037   \n",
       "\n",
       "                      AssignToHotkeys  UniqueHotkeys  MinimapAttacks  \\\n",
       "GameID                       0.136184       0.117366        0.074045   \n",
       "LeagueIndex                  0.531125       0.351213        0.312544   \n",
       "APM                          0.578416       0.361704        0.271021   \n",
       "SelectByHotkeys              0.504526       0.302096        0.197158   \n",
       "AssignToHotkeys              1.000000       0.420242        0.242196   \n",
       "UniqueHotkeys                0.420242       1.000000        0.180592   \n",
       "MinimapAttacks               0.242196       0.180592        1.000000   \n",
       "MinimapRightClicks           0.193043       0.141576        0.242269   \n",
       "NumberOfPACs                 0.486729       0.372079        0.177343   \n",
       "GapBetweenPACs              -0.396891      -0.242815       -0.237633   \n",
       "ActionLatency               -0.482191      -0.323103       -0.199904   \n",
       "ActionsInPAC                 0.093668      -0.016400        0.134804   \n",
       "TotalMapExplored             0.192928       0.264650        0.166392   \n",
       "WorkersMade                  0.183065       0.108141        0.077624   \n",
       "UniqueUnitsMade              0.132829       0.225030        0.120824   \n",
       "ComplexUnitsMade             0.144603       0.110363        0.040239   \n",
       "ComplexAbilitiesUsed         0.154410       0.102453        0.044528   \n",
       "\n",
       "                      MinimapRightClicks  NumberOfPACs  GapBetweenPACs  \\\n",
       "GameID                          0.046583      0.089635       -0.102572   \n",
       "LeagueIndex                     0.233231      0.612192       -0.553246   \n",
       "APM                             0.322179      0.651237       -0.575275   \n",
       "SelectByHotkeys                 0.143368      0.398505       -0.304290   \n",
       "AssignToHotkeys                 0.193043      0.486729       -0.396891   \n",
       "UniqueHotkeys                   0.141576      0.372079       -0.242815   \n",
       "MinimapAttacks                  0.242269      0.177343       -0.237633   \n",
       "MinimapRightClicks              1.000000      0.176137       -0.254466   \n",
       "NumberOfPACs                    0.176137      1.000000       -0.506261   \n",
       "GapBetweenPACs                 -0.254466     -0.506261        1.000000   \n",
       "ActionLatency                  -0.230660     -0.820334        0.689402   \n",
       "ActionsInPAC                    0.307512     -0.232018       -0.311072   \n",
       "TotalMapExplored                0.172592      0.460275       -0.095330   \n",
       "WorkersMade                     0.206594      0.277891       -0.235419   \n",
       "UniqueUnitsMade                 0.148699      0.306295       -0.084855   \n",
       "ComplexUnitsMade                0.091604      0.181484       -0.074659   \n",
       "ComplexAbilitiesUsed            0.090650      0.168293       -0.090566   \n",
       "\n",
       "                      ActionLatency  ActionsInPAC  TotalMapExplored  \\\n",
       "GameID                    -0.087222      0.047255          0.032313   \n",
       "LeagueIndex               -0.673939      0.143121          0.220676   \n",
       "APM                       -0.722402      0.383985          0.220749   \n",
       "SelectByHotkeys           -0.415388      0.163282          0.083481   \n",
       "AssignToHotkeys           -0.482191      0.093668          0.192928   \n",
       "UniqueHotkeys             -0.323103     -0.016400          0.264650   \n",
       "MinimapAttacks            -0.199904      0.134804          0.166392   \n",
       "MinimapRightClicks        -0.230660      0.307512          0.172592   \n",
       "NumberOfPACs              -0.820334     -0.232018          0.460275   \n",
       "GapBetweenPACs             0.689402     -0.311072         -0.095330   \n",
       "ActionLatency              1.000000     -0.110224         -0.343314   \n",
       "ActionsInPAC              -0.110224      1.000000         -0.157215   \n",
       "TotalMapExplored          -0.343314     -0.157215          1.000000   \n",
       "WorkersMade               -0.309175      0.251795          0.131507   \n",
       "UniqueUnitsMade           -0.212610     -0.133697          0.572768   \n",
       "ComplexUnitsMade          -0.186407      0.052725          0.307762   \n",
       "ComplexAbilitiesUsed      -0.184372      0.054536          0.248257   \n",
       "\n",
       "                      WorkersMade  UniqueUnitsMade  ComplexUnitsMade  \\\n",
       "GameID                  -0.011636         0.021204         -0.027098   \n",
       "LeagueIndex              0.295643         0.133508          0.148834   \n",
       "APM                      0.349692         0.100844          0.136143   \n",
       "SelectByHotkeys          0.141723         0.006121          0.044002   \n",
       "AssignToHotkeys          0.183065         0.132829          0.144603   \n",
       "UniqueHotkeys            0.108141         0.225030          0.110363   \n",
       "MinimapAttacks           0.077624         0.120824          0.040239   \n",
       "MinimapRightClicks       0.206594         0.148699          0.091604   \n",
       "NumberOfPACs             0.277891         0.306295          0.181484   \n",
       "GapBetweenPACs          -0.235419        -0.084855         -0.074659   \n",
       "ActionLatency           -0.309175        -0.212610         -0.186407   \n",
       "ActionsInPAC             0.251795        -0.133697          0.052725   \n",
       "TotalMapExplored         0.131507         0.572768          0.307762   \n",
       "WorkersMade              1.000000         0.113504          0.203637   \n",
       "UniqueUnitsMade          0.113504         1.000000          0.381497   \n",
       "ComplexUnitsMade         0.203637         0.381497          1.000000   \n",
       "ComplexAbilitiesUsed     0.101942         0.291829          0.616680   \n",
       "\n",
       "                      ComplexAbilitiesUsed  \n",
       "GameID                            0.003248  \n",
       "LeagueIndex                       0.145733  \n",
       "APM                               0.131587  \n",
       "SelectByHotkeys                   0.061037  \n",
       "AssignToHotkeys                   0.154410  \n",
       "UniqueHotkeys                     0.102453  \n",
       "MinimapAttacks                    0.044528  \n",
       "MinimapRightClicks                0.090650  \n",
       "NumberOfPACs                      0.168293  \n",
       "GapBetweenPACs                   -0.090566  \n",
       "ActionLatency                    -0.184372  \n",
       "ActionsInPAC                      0.054536  \n",
       "TotalMapExplored                  0.248257  \n",
       "WorkersMade                       0.101942  \n",
       "UniqueUnitsMade                   0.291829  \n",
       "ComplexUnitsMade                  0.616680  \n",
       "ComplexAbilitiesUsed              1.000000  "
      ]
     },
     "execution_count": 285,
     "metadata": {},
     "output_type": "execute_result"
    }
   ],
   "source": [
    "# correlation matrix\n",
    "data.corr()"
   ]
  },
  {
   "cell_type": "markdown",
   "id": "532e27c1-67c6-465b-83e0-362eb1b1770f",
   "metadata": {},
   "source": [
    "As a result of our correlation matrix we see that APM and ActionLatency have significant correlation to LeagueIndex let's plot them to see the relationship"
   ]
  },
  {
   "cell_type": "code",
   "execution_count": 201,
   "id": "29be5010-a912-4d00-962f-f6fbc892dcf9",
   "metadata": {},
   "outputs": [
    {
     "data": {
      "text/plain": [
       "<matplotlib.collections.PathCollection at 0x14c872250>"
      ]
     },
     "execution_count": 201,
     "metadata": {},
     "output_type": "execute_result"
    },
    {
     "data": {
      "image/png": "[encoded data removed]",
      "text/plain": [
       "<Figure size 432x288 with 1 Axes>"
      ]
     },
     "metadata": {
      "needs_background": "light"
     },
     "output_type": "display_data"
    }
   ],
   "source": [
    "# A scatter plot of APM vs LeagueIndex\n",
    "plt.scatter(data['LeagueIndex'], data['APM'])"
   ]
  },
  {
   "cell_type": "markdown",
   "id": "3e8a7cca-54aa-4ba9-8d4d-6fb3452210e9",
   "metadata": {},
   "source": [
    "The positive correlation between APM and LeagueIndex is apparent in this scatterplot"
   ]
  },
  {
   "cell_type": "code",
   "execution_count": 202,
   "id": "51564958-0e38-472b-8279-6b2191cafcfb",
   "metadata": {},
   "outputs": [
    {
     "data": {
      "text/plain": [
       "<matplotlib.collections.PathCollection at 0x14c7e0370>"
      ]
     },
     "execution_count": 202,
     "metadata": {},
     "output_type": "execute_result"
    },
    {
     "data": {
      "image/png": "[encoded data removed]",
      "text/plain": [
       "<Figure size 432x288 with 1 Axes>"
      ]
     },
     "metadata": {
      "needs_background": "light"
     },
     "output_type": "display_data"
    }
   ],
   "source": [
    "# A scatter plot of ActionLatency vs LeagueIndex\n",
    "plt.scatter(data['LeagueIndex'], data['ActionLatency'])"
   ]
  },
  {
   "cell_type": "markdown",
   "id": "d8cfa32b-edd6-454c-88a6-2b3a26cd1d4d",
   "metadata": {},
   "source": [
    "Similarly, the negative correlation between ActionLatency and LeagueIndex is also significant in this scatterplot."
   ]
  },
  {
   "cell_type": "markdown",
   "id": "f42c9fb0-0ea4-421f-9992-0ebca12c7675",
   "metadata": {},
   "source": [
    "In both scatter plot we see the effect the lack of data in LeagueIndex 7 has on the variance of the LeagueIndex. The variance of value within LeagueIndex 7 is clearly much smaller than that of the other LeagueIndexes. However, there is still high variability within the data which will cause issues for the accuracy of our model in the future."
   ]
  },
  {
   "cell_type": "markdown",
   "id": "534448bc-05e8-4999-9fd9-85ee5e87a572",
   "metadata": {},
   "source": [
    "# Model"
   ]
  },
  {
   "cell_type": "markdown",
   "id": "705df1c8-4f98-4b50-91d5-54d7e20aecc8",
   "metadata": {},
   "source": [
    "Our response variable LeagueIndex is an Ordinal data type. This means that there exists an arbitrary order between each category (in this case (1 < 2 < 3 < 4 < 5 < 6 < 7 < 8). As a result we use the OrderedModel from the statsmodel package.\n",
    "\n",
    "For this problem, we wouldn't want to use linear regression since our response variable are categorical variables. One may think that it would be possible not perform any data transformation and keep the LeagueIndex variable as an int type; however, due to the nature of linear regression, this would result in a continuos response variable. In addition, linear regression would quantify the arbituary relationship between LeagueIndexes which would not accurately reflect the differences between each League."
   ]
  },
  {
   "cell_type": "markdown",
   "id": "7a66175e-94d2-438d-856a-208350590941",
   "metadata": {},
   "source": [
    "## Cross Validation"
   ]
  },
  {
   "cell_type": "code",
   "execution_count": 293,
   "id": "c3c10894-4af4-4628-8cfb-4146b2df871c",
   "metadata": {},
   "outputs": [],
   "source": [
    "from sklearn.model_selection import train_test_split"
   ]
  },
  {
   "cell_type": "code",
   "execution_count": 294,
   "id": "dae0a332-ae86-4f51-a93b-711da1a13230",
   "metadata": {},
   "outputs": [],
   "source": [
    "# seperate response and predictors\n",
    "X = clean_data.drop(columns=['LeagueIndex'])\n",
    "y = clean_data['LeagueIndex']\n",
    "\n",
    "# split into test and train set\n",
    "X_train, X_test, y_train, y_test = train_test_split(X, y, random_state = 0)"
   ]
  },
  {
   "cell_type": "markdown",
   "id": "71c1f85d-873f-4034-871c-3bac963c2c93",
   "metadata": {},
   "source": [
    "## Ordered Model"
   ]
  },
  {
   "cell_type": "code",
   "execution_count": 296,
   "id": "85e69f97-4e30-47c4-9f8a-3eb831743f4f",
   "metadata": {},
   "outputs": [],
   "source": [
    "# Create OrderedModel with training data\n",
    "from statsmodels.miscmodels.ordinal_model import OrderedModel\n",
    "mod_log = OrderedModel(y_train, \n",
    "                       X_train,\n",
    "                       distr='logit')"
   ]
  },
  {
   "cell_type": "code",
   "execution_count": 297,
   "id": "69046e0d-876c-4884-9b78-8096827f8857",
   "metadata": {
    "tags": []
   },
   "outputs": [
    {
     "name": "stdout",
     "output_type": "stream",
     "text": [
      "Optimization terminated successfully.\n",
      "         Current function value: 1.359477\n",
      "         Iterations: 203\n",
      "         Function evaluations: 207\n",
      "         Gradient evaluations: 207\n"
     ]
    },
    {
     "data": {
      "text/html": [
       "<table class=\"simpletable\">\n",
       "<caption>OrderedModel Results</caption>\n",
       "<tr>\n",
       "  <th>Dep. Variable:</th>        <td>LeagueIndex</td>    <th>  Log-Likelihood:    </th> <td> -3461.2</td>\n",
       "</tr>\n",
       "<tr>\n",
       "  <th>Model:</th>               <td>OrderedModel</td>    <th>  AIC:               </th> <td>   6966.</td>\n",
       "</tr>\n",
       "<tr>\n",
       "  <th>Method:</th>           <td>Maximum Likelihood</td> <th>  BIC:               </th> <td>   7095.</td>\n",
       "</tr>\n",
       "<tr>\n",
       "  <th>Date:</th>              <td>Sat, 27 May 2023</td>  <th>                     </th>     <td> </td>   \n",
       "</tr>\n",
       "<tr>\n",
       "  <th>Time:</th>                  <td>00:18:00</td>      <th>                     </th>     <td> </td>   \n",
       "</tr>\n",
       "<tr>\n",
       "  <th>No. Observations:</th>       <td>  2546</td>       <th>                     </th>     <td> </td>   \n",
       "</tr>\n",
       "<tr>\n",
       "  <th>Df Residuals:</th>           <td>  2524</td>       <th>                     </th>     <td> </td>   \n",
       "</tr>\n",
       "<tr>\n",
       "  <th>Df Model:</th>               <td>    15</td>       <th>                     </th>     <td> </td>   \n",
       "</tr>\n",
       "</table>\n",
       "<table class=\"simpletable\">\n",
       "<tr>\n",
       "            <td></td>              <th>coef</th>     <th>std err</th>      <th>z</th>      <th>P>|z|</th>  <th>[0.025</th>    <th>0.975]</th>  \n",
       "</tr>\n",
       "<tr>\n",
       "  <th>APM</th>                  <td>   -0.0075</td> <td>    0.005</td> <td>   -1.521</td> <td> 0.128</td> <td>   -0.017</td> <td>    0.002</td>\n",
       "</tr>\n",
       "<tr>\n",
       "  <th>SelectByHotkeys</th>      <td>  144.4090</td> <td>   28.806</td> <td>    5.013</td> <td> 0.000</td> <td>   87.951</td> <td>  200.867</td>\n",
       "</tr>\n",
       "<tr>\n",
       "  <th>AssignToHotkeys</th>      <td> 1711.6768</td> <td>  227.496</td> <td>    7.524</td> <td> 0.000</td> <td> 1265.793</td> <td> 2157.561</td>\n",
       "</tr>\n",
       "<tr>\n",
       "  <th>UniqueHotkeys</th>        <td>    0.0622</td> <td>    0.018</td> <td>    3.472</td> <td> 0.001</td> <td>    0.027</td> <td>    0.097</td>\n",
       "</tr>\n",
       "<tr>\n",
       "  <th>MinimapAttacks</th>       <td> 2345.1957</td> <td>  266.377</td> <td>    8.804</td> <td> 0.000</td> <td> 1823.107</td> <td> 2867.285</td>\n",
       "</tr>\n",
       "<tr>\n",
       "  <th>MinimapRightClicks</th>   <td>  150.0395</td> <td>  114.886</td> <td>    1.306</td> <td> 0.192</td> <td>  -75.133</td> <td>  375.212</td>\n",
       "</tr>\n",
       "<tr>\n",
       "  <th>NumberOfPACs</th>         <td>  791.3329</td> <td>  149.574</td> <td>    5.291</td> <td> 0.000</td> <td>  498.174</td> <td> 1084.492</td>\n",
       "</tr>\n",
       "<tr>\n",
       "  <th>GapBetweenPACs</th>       <td>   -0.0205</td> <td>    0.003</td> <td>   -5.931</td> <td> 0.000</td> <td>   -0.027</td> <td>   -0.014</td>\n",
       "</tr>\n",
       "<tr>\n",
       "  <th>ActionLatency</th>        <td>   -0.0330</td> <td>    0.005</td> <td>   -6.888</td> <td> 0.000</td> <td>   -0.042</td> <td>   -0.024</td>\n",
       "</tr>\n",
       "<tr>\n",
       "  <th>ActionsInPAC</th>         <td>    0.1482</td> <td>    0.074</td> <td>    2.016</td> <td> 0.044</td> <td>    0.004</td> <td>    0.292</td>\n",
       "</tr>\n",
       "<tr>\n",
       "  <th>TotalMapExplored</th>     <td>   -0.0169</td> <td>    0.007</td> <td>   -2.477</td> <td> 0.013</td> <td>   -0.030</td> <td>   -0.004</td>\n",
       "</tr>\n",
       "<tr>\n",
       "  <th>WorkersMade</th>          <td>  415.4589</td> <td>   81.604</td> <td>    5.091</td> <td> 0.000</td> <td>  255.518</td> <td>  575.400</td>\n",
       "</tr>\n",
       "<tr>\n",
       "  <th>UniqueUnitsMade</th>      <td>   -0.0508</td> <td>    0.026</td> <td>   -1.946</td> <td> 0.052</td> <td>   -0.102</td> <td>    0.000</td>\n",
       "</tr>\n",
       "<tr>\n",
       "  <th>ComplexUnitsMade</th>     <td>  338.4847</td> <td>  451.632</td> <td>    0.749</td> <td> 0.454</td> <td> -546.698</td> <td> 1223.667</td>\n",
       "</tr>\n",
       "<tr>\n",
       "  <th>ComplexAbilitiesUsed</th> <td>   -6.2989</td> <td>  180.204</td> <td>   -0.035</td> <td> 0.972</td> <td> -359.492</td> <td>  346.894</td>\n",
       "</tr>\n",
       "<tr>\n",
       "  <th>1/2</th>                  <td>   -3.2764</td> <td>    0.747</td> <td>   -4.384</td> <td> 0.000</td> <td>   -4.741</td> <td>   -1.812</td>\n",
       "</tr>\n",
       "<tr>\n",
       "  <th>2/3</th>                  <td>    0.5600</td> <td>    0.058</td> <td>    9.629</td> <td> 0.000</td> <td>    0.446</td> <td>    0.674</td>\n",
       "</tr>\n",
       "<tr>\n",
       "  <th>3/4</th>                  <td>    0.3819</td> <td>    0.045</td> <td>    8.471</td> <td> 0.000</td> <td>    0.294</td> <td>    0.470</td>\n",
       "</tr>\n",
       "<tr>\n",
       "  <th>4/5</th>                  <td>    0.5164</td> <td>    0.037</td> <td>   14.068</td> <td> 0.000</td> <td>    0.444</td> <td>    0.588</td>\n",
       "</tr>\n",
       "<tr>\n",
       "  <th>5/6</th>                  <td>    0.6176</td> <td>    0.037</td> <td>   16.701</td> <td> 0.000</td> <td>    0.545</td> <td>    0.690</td>\n",
       "</tr>\n",
       "<tr>\n",
       "  <th>6/7</th>                  <td>    1.2757</td> <td>    0.048</td> <td>   26.670</td> <td> 0.000</td> <td>    1.182</td> <td>    1.369</td>\n",
       "</tr>\n",
       "<tr>\n",
       "  <th>7/8</th>                  <td>   -0.1684</td> <td>    0.187</td> <td>   -0.901</td> <td> 0.368</td> <td>   -0.535</td> <td>    0.198</td>\n",
       "</tr>\n",
       "</table>"
      ],
      "text/latex": [
       "\\begin{center}\n",
       "\\begin{tabular}{lclc}\n",
       "\\toprule\n",
       "\\textbf{Dep. Variable:}       &    LeagueIndex     & \\textbf{  Log-Likelihood:    } &   -3461.2   \\\\\n",
       "\\textbf{Model:}               &    OrderedModel    & \\textbf{  AIC:               } &     6966.   \\\\\n",
       "\\textbf{Method:}              & Maximum Likelihood & \\textbf{  BIC:               } &     7095.   \\\\\n",
       "\\textbf{Date:}                &  Sat, 27 May 2023  & \\textbf{                     } &             \\\\\n",
       "\\textbf{Time:}                &      00:18:00      & \\textbf{                     } &             \\\\\n",
       "\\textbf{No. Observations:}    &         2546       & \\textbf{                     } &             \\\\\n",
       "\\textbf{Df Residuals:}        &         2524       & \\textbf{                     } &             \\\\\n",
       "\\textbf{Df Model:}            &           15       & \\textbf{                     } &             \\\\\n",
       "\\bottomrule\n",
       "\\end{tabular}\n",
       "\\begin{tabular}{lcccccc}\n",
       "                              & \\textbf{coef} & \\textbf{std err} & \\textbf{z} & \\textbf{P$> |$z$|$} & \\textbf{[0.025} & \\textbf{0.975]}  \\\\\n",
       "\\midrule\n",
       "\\textbf{APM}                  &      -0.0075  &        0.005     &    -1.521  &         0.128        &       -0.017    &        0.002     \\\\\n",
       "\\textbf{SelectByHotkeys}      &     144.4090  &       28.806     &     5.013  &         0.000        &       87.951    &      200.867     \\\\\n",
       "\\textbf{AssignToHotkeys}      &    1711.6768  &      227.496     &     7.524  &         0.000        &     1265.793    &     2157.561     \\\\\n",
       "\\textbf{UniqueHotkeys}        &       0.0622  &        0.018     &     3.472  &         0.001        &        0.027    &        0.097     \\\\\n",
       "\\textbf{MinimapAttacks}       &    2345.1957  &      266.377     &     8.804  &         0.000        &     1823.107    &     2867.285     \\\\\n",
       "\\textbf{MinimapRightClicks}   &     150.0395  &      114.886     &     1.306  &         0.192        &      -75.133    &      375.212     \\\\\n",
       "\\textbf{NumberOfPACs}         &     791.3329  &      149.574     &     5.291  &         0.000        &      498.174    &     1084.492     \\\\\n",
       "\\textbf{GapBetweenPACs}       &      -0.0205  &        0.003     &    -5.931  &         0.000        &       -0.027    &       -0.014     \\\\\n",
       "\\textbf{ActionLatency}        &      -0.0330  &        0.005     &    -6.888  &         0.000        &       -0.042    &       -0.024     \\\\\n",
       "\\textbf{ActionsInPAC}         &       0.1482  &        0.074     &     2.016  &         0.044        &        0.004    &        0.292     \\\\\n",
       "\\textbf{TotalMapExplored}     &      -0.0169  &        0.007     &    -2.477  &         0.013        &       -0.030    &       -0.004     \\\\\n",
       "\\textbf{WorkersMade}          &     415.4589  &       81.604     &     5.091  &         0.000        &      255.518    &      575.400     \\\\\n",
       "\\textbf{UniqueUnitsMade}      &      -0.0508  &        0.026     &    -1.946  &         0.052        &       -0.102    &        0.000     \\\\\n",
       "\\textbf{ComplexUnitsMade}     &     338.4847  &      451.632     &     0.749  &         0.454        &     -546.698    &     1223.667     \\\\\n",
       "\\textbf{ComplexAbilitiesUsed} &      -6.2989  &      180.204     &    -0.035  &         0.972        &     -359.492    &      346.894     \\\\\n",
       "\\textbf{1/2}                  &      -3.2764  &        0.747     &    -4.384  &         0.000        &       -4.741    &       -1.812     \\\\\n",
       "\\textbf{2/3}                  &       0.5600  &        0.058     &     9.629  &         0.000        &        0.446    &        0.674     \\\\\n",
       "\\textbf{3/4}                  &       0.3819  &        0.045     &     8.471  &         0.000        &        0.294    &        0.470     \\\\\n",
       "\\textbf{4/5}                  &       0.5164  &        0.037     &    14.068  &         0.000        &        0.444    &        0.588     \\\\\n",
       "\\textbf{5/6}                  &       0.6176  &        0.037     &    16.701  &         0.000        &        0.545    &        0.690     \\\\\n",
       "\\textbf{6/7}                  &       1.2757  &        0.048     &    26.670  &         0.000        &        1.182    &        1.369     \\\\\n",
       "\\textbf{7/8}                  &      -0.1684  &        0.187     &    -0.901  &         0.368        &       -0.535    &        0.198     \\\\\n",
       "\\bottomrule\n",
       "\\end{tabular}\n",
       "%\\caption{OrderedModel Results}\n",
       "\\end{center}"
      ],
      "text/plain": [
       "<class 'statsmodels.iolib.summary.Summary'>\n",
       "\"\"\"\n",
       "                             OrderedModel Results                             \n",
       "==============================================================================\n",
       "Dep. Variable:            LeagueIndex   Log-Likelihood:                -3461.2\n",
       "Model:                   OrderedModel   AIC:                             6966.\n",
       "Method:            Maximum Likelihood   BIC:                             7095.\n",
       "Date:                Sat, 27 May 2023                                         \n",
       "Time:                        00:18:00                                         \n",
       "No. Observations:                2546                                         \n",
       "Df Residuals:                    2524                                         \n",
       "Df Model:                          15                                         \n",
       "========================================================================================\n",
       "                           coef    std err          z      P>|z|      [0.025      0.975]\n",
       "----------------------------------------------------------------------------------------\n",
       "APM                     -0.0075      0.005     -1.521      0.128      -0.017       0.002\n",
       "SelectByHotkeys        144.4090     28.806      5.013      0.000      87.951     200.867\n",
       "AssignToHotkeys       1711.6768    227.496      7.524      0.000    1265.793    2157.561\n",
       "UniqueHotkeys            0.0622      0.018      3.472      0.001       0.027       0.097\n",
       "MinimapAttacks        2345.1957    266.377      8.804      0.000    1823.107    2867.285\n",
       "MinimapRightClicks     150.0395    114.886      1.306      0.192     -75.133     375.212\n",
       "NumberOfPACs           791.3329    149.574      5.291      0.000     498.174    1084.492\n",
       "GapBetweenPACs          -0.0205      0.003     -5.931      0.000      -0.027      -0.014\n",
       "ActionLatency           -0.0330      0.005     -6.888      0.000      -0.042      -0.024\n",
       "ActionsInPAC             0.1482      0.074      2.016      0.044       0.004       0.292\n",
       "TotalMapExplored        -0.0169      0.007     -2.477      0.013      -0.030      -0.004\n",
       "WorkersMade            415.4589     81.604      5.091      0.000     255.518     575.400\n",
       "UniqueUnitsMade         -0.0508      0.026     -1.946      0.052      -0.102       0.000\n",
       "ComplexUnitsMade       338.4847    451.632      0.749      0.454    -546.698    1223.667\n",
       "ComplexAbilitiesUsed    -6.2989    180.204     -0.035      0.972    -359.492     346.894\n",
       "1/2                     -3.2764      0.747     -4.384      0.000      -4.741      -1.812\n",
       "2/3                      0.5600      0.058      9.629      0.000       0.446       0.674\n",
       "3/4                      0.3819      0.045      8.471      0.000       0.294       0.470\n",
       "4/5                      0.5164      0.037     14.068      0.000       0.444       0.588\n",
       "5/6                      0.6176      0.037     16.701      0.000       0.545       0.690\n",
       "6/7                      1.2757      0.048     26.670      0.000       1.182       1.369\n",
       "7/8                     -0.1684      0.187     -0.901      0.368      -0.535       0.198\n",
       "========================================================================================\n",
       "\"\"\""
      ]
     },
     "execution_count": 297,
     "metadata": {},
     "output_type": "execute_result"
    }
   ],
   "source": [
    "# Fit the Model\n",
    "res_log = mod_log.fit(method ='bfgs')\n",
    "res_log.summary()"
   ]
  },
  {
   "cell_type": "code",
   "execution_count": 346,
   "id": "1496178a-95e0-438d-b5bf-b089bcd04258",
   "metadata": {},
   "outputs": [
    {
     "data": {
      "text/plain": [
       "array([[11, 19,  5,  5,  1,  0,  0,  0],\n",
       "       [ 6, 19, 35, 19,  2,  0,  0,  0],\n",
       "       [ 3, 11, 44, 61, 18,  2,  0,  0],\n",
       "       [ 2,  6, 43, 96, 51,  6,  0,  0],\n",
       "       [ 0,  1,  7, 68, 81, 45,  0,  0],\n",
       "       [ 0,  0,  1, 21, 54, 75,  0,  1],\n",
       "       [ 0,  0,  0,  0,  0,  9,  0,  0],\n",
       "       [ 0,  0,  0,  0,  0,  6,  0, 15]])"
      ]
     },
     "execution_count": 346,
     "metadata": {},
     "output_type": "execute_result"
    }
   ],
   "source": [
    "# generate predictions on test data\n",
    "predicted = residuals.model.predict(residuals.params,\n",
    "                                      exog = X_test)\n",
    "pred_choice = predicted.argmax(1).astype(str)\n",
    "\n",
    "# create confusion matrix\n",
    "cm = confusion_matrix(y_test, pred_choice)\n",
    "print(cm[1:, :-1])"
   ]
  },
  {
   "cell_type": "markdown",
   "id": "4014ed30-4f7d-4ffd-8de6-3894bf8637fc",
   "metadata": {},
   "source": [
    "From the resulting confusion matrix, we see that the our model having trouble predicting the exact LeagueIndexes; however, most incorrect predictions fall within 1 league away from the correct LeagueIndex. This is the result of the high variablility that was apparent in our EDA.\n",
    "\n",
    "If we take a look at the last row (LeagueIndex 8), we see that 15/21 (~71%) of ranks were predicted correctly. In addition, looking at the last column, there was only 1 observation that gave a False positive to LeagueIndex 8; however, there were 6 False Negative. This means that the model can identify players ranks at the highest level. In addition, it can identify when players are underperforming based on their rank."
   ]
  },
  {
   "cell_type": "code",
   "execution_count": 371,
   "id": "f5c303fe-00b6-4a47-ab80-4306d1f1b761",
   "metadata": {},
   "outputs": [
    {
     "name": "stdout",
     "output_type": "stream",
     "text": [
      "Accuracy: 0.24852767962308597\n"
     ]
    }
   ],
   "source": [
    "print('Percentage of Correct Predictions:', (np.asarray(y_test) == pred_choice).mean())"
   ]
  },
  {
   "cell_type": "code",
   "execution_count": 372,
   "id": "90844b06-f8ea-43e3-acfb-05e18174f34f",
   "metadata": {},
   "outputs": [
    {
     "name": "stdout",
     "output_type": "stream",
     "text": [
      "Percentage of Prediction within 1 rank of Correct Prediction: 0.8751472320376914\n"
     ]
    }
   ],
   "source": [
    "cm_padded = np.concatenate((np.array([[0]]*9), cm), axis=1)\n",
    "count = 0\n",
    "for i in range(1,9):\n",
    "    count += cm_padded[i, i-1:i+2].sum()\n",
    "print('Percentage of Prediction within 1 rank of Correct Prediction:', count/cm.sum())\n",
    "    "
   ]
  },
  {
   "cell_type": "markdown",
   "id": "26db400b-3a7e-4b03-b3a0-10655ba2578c",
   "metadata": {},
   "source": [
    "From our confusion matrix I've calculated the exact accuracy as well as the within 1 rank accuracy of the model on our test set. As you can see, the model does not perform well in classifying the exact LeagueIndex of a player with a ratio of 0.24, but does extremely well at predicting the general LeagueIndex with a ratio of 0.87"
   ]
  },
  {
   "cell_type": "markdown",
   "id": "f73f9052-795b-4479-ab47-a257c09e0d4c",
   "metadata": {},
   "source": [
    "## Decision Tree"
   ]
  },
  {
   "cell_type": "markdown",
   "id": "507af653-bc09-41dd-a699-2a1e498c0433",
   "metadata": {},
   "source": [
    "The Ordinal Model performed very poorly when predicting the exact LeagueIndex of a player. Let's try out a different approach which does not take into account the ordinality of LeagueIndex: A Decision Tree."
   ]
  },
  {
   "cell_type": "markdown",
   "id": "1fb3206a-99e7-478d-bf3a-c0638269603b",
   "metadata": {},
   "source": [
    "### CV\n",
    "\n",
    "Since the Decision Tree does not take into account ordinality of League Index we will convert the response variable into a string type."
   ]
  },
  {
   "cell_type": "code",
   "execution_count": 374,
   "id": "3a4a212e-7502-4104-8129-7c3e4bd76855",
   "metadata": {},
   "outputs": [],
   "source": [
    "# drop unwanted columns\n",
    "data = data.drop(columns=['GameID', 'Age', 'HoursPerWeek', 'TotalHours'])\n",
    "\n",
    "# convert LeagueIndex to str\n",
    "data['LeagueIndex'] = data['LeagueIndex'].astype(str)"
   ]
  },
  {
   "cell_type": "code",
   "execution_count": 383,
   "id": "df0b1850-5389-4a40-916d-e4fc46750060",
   "metadata": {},
   "outputs": [],
   "source": [
    "# seperate response and predictors\n",
    "dtree_X = data.drop(columns=['LeagueIndex'])\n",
    "dtree_y = data['LeagueIndex']"
   ]
  },
  {
   "cell_type": "code",
   "execution_count": 384,
   "id": "e775847f-c4fe-495c-977b-b19de95f0644",
   "metadata": {},
   "outputs": [],
   "source": [
    "# split train and test set\n",
    "dtree_X_train, dtree_X_test, dtree_y_train, dtree_y_test = train_test_split(dtree_X, dtree_y, random_state = 0)"
   ]
  },
  {
   "cell_type": "code",
   "execution_count": 391,
   "id": "72f24e84-2896-4d4a-b7c8-8eb4b9ff614c",
   "metadata": {},
   "outputs": [
    {
     "name": "stdout",
     "output_type": "stream",
     "text": [
      "[[  0   0  33   8   0   0   0   0]\n",
      " [  0   0  47  31   3   0   0   0]\n",
      " [  0   0  51  66  20   2   0   0]\n",
      " [  0   0  42 114  41   7   0   0]\n",
      " [  0   0   9  77  78  38   0   0]\n",
      " [  0   0   2  26  64  60   0   0]\n",
      " [  0   0   0   0   2   7   0   0]\n",
      " [  0   0   0   0   0  21   0   0]]\n",
      "Percentage of Correct Predictions: 0.3568904593639576\n"
     ]
    }
   ],
   "source": [
    "from sklearn.tree import DecisionTreeClassifier\n",
    "dtree_model = DecisionTreeClassifier(max_depth = 2).fit(dtree_X_train, dtree_y_train)\n",
    "dtree_predictions = dtree_model.predict(dtree_X_test)\n",
    "  \n",
    "# creating a confusion matrix\n",
    "dtree_cm = confusion_matrix(dtree_y_test, dtree_predictions)\n",
    "print(dtree_cm)\n",
    "print('Percentage of Correct Predictions:', (dtree_predictions == np.asarray(y_test.values)).mean())"
   ]
  },
  {
   "cell_type": "markdown",
   "id": "29ddcece-9bcf-4cf5-b247-73b963298c4c",
   "metadata": {},
   "source": [
    "The Decision Tree has a higher accuracy than the Ordered Model; however, it has trouble predicting the extreme values for LeagueIndex (1, 2, 7, and 8). Most of the predictions fall within the range of 3, 4, 5, 6 of LeagueIndex. I believe that this is due to lack of ordinality between the response variable which caused the predictions to be more heavily weight to the middle leagues where it also contained the most data. "
   ]
  },
  {
   "cell_type": "code",
   "execution_count": 390,
   "id": "b453463b-8ddb-435d-8535-40f5230216cd",
   "metadata": {},
   "outputs": [
    {
     "name": "stdout",
     "output_type": "stream",
     "text": [
      "Percentage of Prediction within 1 rank of Correct Prediction: 0.806831566548881\n"
     ]
    }
   ],
   "source": [
    "dtree_cm_padded = np.concatenate((np.array([[0]]*8), dtree_cm, np.array([[0]]*8)), axis=1)\n",
    "count = 0\n",
    "for i in range(1,9):\n",
    "    count += dtree_cm_padded[i-1, i-1:i+2].sum()\n",
    "print('Percentage of Prediction within 1 rank of Correct Prediction:', count/dtree_cm_padded.sum())"
   ]
  },
  {
   "cell_type": "markdown",
   "id": "afb76591-5fa5-4ddf-a143-61665abea9f6",
   "metadata": {},
   "source": [
    "One interesting observation between the two models was that while the decision tree was had a higher accuracy in predicting the exact LeagueIndex correctly with a ratio of 0.35 versus 0.24 for the Ordered Model. On the other hand, the Ordered Model had a better accuracy of predicting within 1 rank of the correct prediction at 0.87 versus 0.80 for the decision tree. This demonstrates the effect of ordinality has on a models response."
   ]
  },
  {
   "cell_type": "markdown",
   "id": "1197ee10-0a04-42e7-b12e-5fc723a27141",
   "metadata": {},
   "source": [
    "# Findings (non-technical)\n",
    "\n",
    "*Why is it valuable to predict a player's rank based on their performance?*\n",
    "1. Player Recruitment: It is important for esports organizations to scout talented players to join their team. Being able to predict a player's rank based off their performance can help the recruitment team identify player who would be **successful in high-end competitive play**. This will cause the recruitment process to become more **streamline** and allows esports organizations to *allocate more of their time and resources to players* who have a higher probability of success.\n",
    "\n",
    "2. Sponsorships: Sponsorships are the **main revenue** of nearly all esports organizations. Potential sponsors are more likely to invest in teams that are successful and popular. A player's predicted rank can be a *good indicator of how **attractive a player is to sponsors.**\n",
    "\n",
    "*What are some findings that are useful to our stakeholders?*\n",
    "1. A player's performance data in ranked games can be used to **identify players who play at a professional level.** Games at the professional level are played much differently than those on ladder. Being able to differentiate players that have the ability to play at this level are **exceptional candidates for recruitment.**\n",
    "\n",
    "2. A player's predicted rank can identify if a player is **over or underperforming for their current rank.** More resources can be allocated to player's who are overperforming to increase their chances of success."
   ]
  },
  {
   "cell_type": "markdown",
   "id": "e9437164-2203-47c9-b143-70bd73a096fd",
   "metadata": {},
   "source": [
    "# Guidance (for stakeholders)"
   ]
  },
  {
   "cell_type": "markdown",
   "id": "e630db13-44d7-41c7-b7cd-1be792457111",
   "metadata": {},
   "source": [
    "*Based on my EDA and Model, here is some guidance for data collection that would be beneficial to my analysis.*\n",
    "\n",
    "1. I found that there *was significantly less games recorded for the* **Grandmaster (7) and Professional (8) ranks.** **Adding more observations (games) for these ranks** would boost prediction accuracy for high ranking players.\n",
    "\n",
    "2. Augment the data with additional columns such as Match Making Rating (MMR). Adding MMR would allow contiuous model like Linear Regression to be used. Having a variety of models available to use on a data set allows for a more complex level of understanding the data."
   ]
  }
 ],
 "metadata": {
  "kernelspec": {
   "display_name": "tf",
   "language": "python",
   "name": "tf"
  },
  "language_info": {
   "codemirror_mode": {
    "name": "ipython",
    "version": 3
   },
   "file_extension": ".py",
   "mimetype": "text/x-python",
   "name": "python",
   "nbconvert_exporter": "python",
   "pygments_lexer": "ipython3",
   "version": "3.8.15"
  }
 },
 "nbformat": 4,
 "nbformat_minor": 5
}
